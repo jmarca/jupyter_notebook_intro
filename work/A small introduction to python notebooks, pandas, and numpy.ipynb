{
 "cells": [
  {
   "cell_type": "markdown",
   "metadata": {},
   "source": [
    "# Introduction\n",
    "\n",
    "This is a Jupyter notebook designed to introduce you to three things.  First of course is the idea of using a Jupyter notebook, but we'll mostly cover that by learning-by-doing.  Second, we'll cover the basics of using Python's standard data science libraries.  Third, we'll actually do some things with real data to see what kinds of analyses are possible.\n",
    "\n",
    "# The data\n",
    "\n",
    "There are lots of interesting data sets floating around the internet today.  I've downloaded one such set of data files on taxi-type services in New York City and have included them in the Docker image you are running.  These files were released in response to a freedom of information act request.  We're going to concentrate on just one file.\n",
    "\n",
    "So first, where is this data and what does it look like?\n",
    "\n",
    "We're going to use some python tricks that are useful in these interactive sessions.  I'm not sure exactly why or how this works, and I'm definitely \"cargo cult\" programming here, but apparently if you put an exclamation point in front of a command, you can run our friendly shell commands.  \n",
    "\n",
    "For example, where are we?  We can use \"pwd\", or print working directory.\n"
   ]
  },
  {
   "cell_type": "code",
   "execution_count": 1,
   "metadata": {},
   "outputs": [
    {
     "name": "stdout",
     "output_type": "stream",
     "text": [
      "/home/jovyan/work\r\n"
     ]
    }
   ],
   "source": [
    "!pwd"
   ]
  },
  {
   "cell_type": "markdown",
   "metadata": {},
   "source": [
    "So we're in the \"work\" directory of some account user name \"jovyan\".  Okay.  Now where is this data?  Try 'ls' to get a list of files and directories where we are."
   ]
  },
  {
   "cell_type": "code",
   "execution_count": 2,
   "metadata": {},
   "outputs": [
    {
     "name": "stdout",
     "output_type": "stream",
     "text": [
      "Untitled.ipynb\r\n"
     ]
    }
   ],
   "source": [
    "!ls"
   ]
  },
  {
   "cell_type": "markdown",
   "metadata": {},
   "source": [
    "Hmm, that does not look promising.  Maybe it is in the directory above us?  Remember \".\" means \"the current directory\" and \"..\" means \"one directory up from where we are now\", so let's try \"ls ..\".\n"
   ]
  },
  {
   "cell_type": "code",
   "execution_count": 3,
   "metadata": {},
   "outputs": [
    {
     "name": "stdout",
     "output_type": "stream",
     "text": [
      "data  work\r\n"
     ]
    }
   ],
   "source": [
    "!ls .."
   ]
  },
  {
   "cell_type": "markdown",
   "metadata": {},
   "source": [
    "Okay.  data and work.  What are those?  Perhaps we can try some flags, like \"ls -lrt\""
   ]
  },
  {
   "cell_type": "code",
   "execution_count": 4,
   "metadata": {},
   "outputs": [
    {
     "name": "stdout",
     "output_type": "stream",
     "text": [
      "total 8\r\n",
      "drwxr-sr-x 2 root   root  4096 Feb  3 16:58 data\r\n",
      "drwxr-xr-x 3 jovyan users 4096 Feb  4 21:02 work\r\n"
     ]
    }
   ],
   "source": [
    "!ls -lrt .."
   ]
  },
  {
   "cell_type": "markdown",
   "metadata": {},
   "source": [
    "Yes that worked.  So of course the -l (for long) flag is all TMI with it's drwx... alphabet soup, but the first letter \"d\" for `data` and again for `work` means that these are both directories.  We know we were in `work` (see above and the pwd command), so let's see what is in `data`.  We'll use the -lrt flags for data because we want to know how big the files are before we go ahead and import them and possibly slow our computer to a crawl."
   ]
  },
  {
   "cell_type": "code",
   "execution_count": 5,
   "metadata": {},
   "outputs": [
    {
     "name": "stdout",
     "output_type": "stream",
     "text": [
      "total 854568\r\n",
      "-rw-r--r-- 1 root root  47540750 Nov 14  2016 uber-raw-data-sep14.csv\r\n",
      "-rw-r--r-- 1 root root  30174084 Nov 14  2016 uber-raw-data-may14.csv\r\n",
      "-rw-r--r-- 1 root root  30695600 Nov 14  2016 uber-raw-data-jun14.csv\r\n",
      "-rw-r--r-- 1 root root  36870544 Nov 14  2016 uber-raw-data-jul14.csv\r\n",
      "-rw-r--r-- 1 root root 551672691 Nov 14  2016 uber-raw-data-janjune-15.csv\r\n",
      "-rw-r--r-- 1 root root  38324585 Nov 14  2016 uber-raw-data-aug14.csv\r\n",
      "-rw-r--r-- 1 root root  26110064 Nov 14  2016 uber-raw-data-apr14.csv\r\n",
      "-rw-r--r-- 1 root root      9866 Nov 14  2016 Uber-Jan-Feb-FOIL.csv\r\n",
      "-rw-r--r-- 1 root root  11584897 Nov 14  2016 other-Skyline_B00111.csv\r\n",
      "-rw-r--r-- 1 root root  19036075 Nov 14  2016 other-Prestige_B01338.csv\r\n",
      "-rw-r--r-- 1 root root   9654300 Nov 14  2016 other-Lyft_B02510.csv\r\n",
      "-rw-r--r-- 1 root root   8074611 Nov 14  2016 other-Highclass_B01717.csv\r\n",
      "-rw-r--r-- 1 root root   7964601 Nov 14  2016 other-Firstclass_B01536.csv\r\n",
      "-rw-r--r-- 1 root root   1418035 Nov 14  2016 other-FHV-services_jan-aug-2015.csv\r\n",
      "-rw-r--r-- 1 root root     63197 Nov 14  2016 other-Federal_02216.csv\r\n",
      "-rw-r--r-- 1 root root   5669851 Nov 14  2016 other-Diplo_B01196.csv\r\n",
      "-rw-r--r-- 1 root root  34581170 Nov 14  2016 other-Dial7_B00887.csv\r\n",
      "-rw-r--r-- 1 root root  10182609 Nov 14  2016 other-Carmel_B00256.csv\r\n",
      "-rw-r--r-- 1 root root   5409460 Nov 14  2016 other-American_B01362.csv\r\n"
     ]
    }
   ],
   "source": [
    "!ls -lrt ../data"
   ]
  },
  {
   "cell_type": "markdown",
   "metadata": {},
   "source": [
    "Open the doors, and there's all the people!  \n",
    "\n",
    "There is one really big file in there called `uber-raw-data-janjune-15.csv`.  How big?  15 something something.  The numbers are not so \"human readable\" are they?  Let's add another flag to the `ls` command:  -h.  -h means \"make the file size output human readable\".  so:"
   ]
  },
  {
   "cell_type": "code",
   "execution_count": 6,
   "metadata": {},
   "outputs": [
    {
     "name": "stdout",
     "output_type": "stream",
     "text": [
      "total 835M\r\n",
      "-rw-r--r-- 1 root root  46M Nov 14  2016 uber-raw-data-sep14.csv\r\n",
      "-rw-r--r-- 1 root root  29M Nov 14  2016 uber-raw-data-may14.csv\r\n",
      "-rw-r--r-- 1 root root  30M Nov 14  2016 uber-raw-data-jun14.csv\r\n",
      "-rw-r--r-- 1 root root  36M Nov 14  2016 uber-raw-data-jul14.csv\r\n",
      "-rw-r--r-- 1 root root 527M Nov 14  2016 uber-raw-data-janjune-15.csv\r\n",
      "-rw-r--r-- 1 root root  37M Nov 14  2016 uber-raw-data-aug14.csv\r\n",
      "-rw-r--r-- 1 root root  25M Nov 14  2016 uber-raw-data-apr14.csv\r\n",
      "-rw-r--r-- 1 root root 9.7K Nov 14  2016 Uber-Jan-Feb-FOIL.csv\r\n",
      "-rw-r--r-- 1 root root  12M Nov 14  2016 other-Skyline_B00111.csv\r\n",
      "-rw-r--r-- 1 root root  19M Nov 14  2016 other-Prestige_B01338.csv\r\n",
      "-rw-r--r-- 1 root root 9.3M Nov 14  2016 other-Lyft_B02510.csv\r\n",
      "-rw-r--r-- 1 root root 7.8M Nov 14  2016 other-Highclass_B01717.csv\r\n",
      "-rw-r--r-- 1 root root 7.6M Nov 14  2016 other-Firstclass_B01536.csv\r\n",
      "-rw-r--r-- 1 root root 1.4M Nov 14  2016 other-FHV-services_jan-aug-2015.csv\r\n",
      "-rw-r--r-- 1 root root  62K Nov 14  2016 other-Federal_02216.csv\r\n",
      "-rw-r--r-- 1 root root 5.5M Nov 14  2016 other-Diplo_B01196.csv\r\n",
      "-rw-r--r-- 1 root root  33M Nov 14  2016 other-Dial7_B00887.csv\r\n",
      "-rw-r--r-- 1 root root 9.8M Nov 14  2016 other-Carmel_B00256.csv\r\n",
      "-rw-r--r-- 1 root root 5.2M Nov 14  2016 other-American_B01362.csv\r\n"
     ]
    }
   ],
   "source": [
    "ls -lrth ../data"
   ]
  },
  {
   "cell_type": "markdown",
   "metadata": {},
   "source": [
    "So now we can see that most of the data files are in the \"tens of megabytes\" range, but that \"big\" file is 500 megabytes.  So big, but not even close to \"big data\" big.  Still, it will take more time to process than the smaller files, so let's avoid it.  For this exercise we'll use the June 2014 file.  Let's make a python variable with that fact."
   ]
  },
  {
   "cell_type": "code",
   "execution_count": 7,
   "metadata": {},
   "outputs": [],
   "source": [
    "path = '../data/uber-raw-data-jun14.csv'"
   ]
  },
  {
   "cell_type": "markdown",
   "metadata": {},
   "source": [
    "Okay, now that we've picked a file, what is inside of it? For that we'll use another shell command called `head`.  `head` gives the first few lines of a file, ten by default, but you can change that with the `-n` flag.  It's counterpart is `tail`, which returns the *last* ten lines of a file.  Head is useful for looking at the tops of data files, where by convention the definition of the data is stored.  Tail is useful for looking at things like log files, where you are interested in seeing whether something is finished, what happened to cause a program to crash, and so on.  So let's call `head` on the path variable.  We can do that by using a \"dollar sign interpolation\" on the python variable `path`.  The dollar sign says to the command parser \"don't actually use the word path.  Instead use the contents of the variable named `path`."
   ]
  },
  {
   "cell_type": "code",
   "execution_count": 8,
   "metadata": {},
   "outputs": [
    {
     "name": "stdout",
     "output_type": "stream",
     "text": [
      "\"Date/Time\",\"Lat\",\"Lon\",\"Base\"\r\n",
      "\"6/1/2014 0:00:00\",40.7293,-73.992,\"B02512\"\r\n",
      "\"6/1/2014 0:01:00\",40.7131,-74.0097,\"B02512\"\r\n",
      "\"6/1/2014 0:04:00\",40.3461,-74.661,\"B02512\"\r\n",
      "\"6/1/2014 0:04:00\",40.7555,-73.9833,\"B02512\"\r\n"
     ]
    }
   ],
   "source": [
    "!head $path -n 5"
   ]
  },
  {
   "cell_type": "markdown",
   "metadata": {},
   "source": [
    "So there are lots of useful little tidbits here.  First off, the file name `uber-raw-data-jun14.csv` is a clue that this is a \"comma separated value\" file, or CSV.  And indeed, you can see that there are four columns, and each column is separated by a comma.  \n",
    "\n",
    "Second, we can see the first row of data defines what is in each column, and then subsequent rows contain the data.  \n",
    "\n",
    "Third, we can see that this file is reasonably well formatted (well, at least the first 5 lines look good).  CSV is a super common file format, but there are lots of tricky edge cases, and in a surprisingly high number of cases of data floating around in the wild, you'll find really ugly things like quotation marks that open but don't close, floating commas at the end of each line, and so on.  Here we see that the first column and last column both have open and close quotes; that each line ends *without* a dangling comma; that the header row has four items, and each data row has for items; and that the first column looks like a timestamp.  \n",
    "\n",
    "Because I've done this way too much in my lifetime, I just spotted an error in the CSV file.  I'll give you a hint that it relates to the timestamp data.  Try to guess what it is, and I'll let you know a little later in this notebook.\n",
    "\n",
    "So now we've identified the file we want and saved it in a variable called `path`, and we've looked at the file and see that it has time, lat (latitude), lon (longitude) and something called \"Base\" that means nothing to us right now.  In fact, I don't really care at all what \"Base\" is, because we're just going to look at time and space for this notebook.\n",
    "\n",
    "How do we \"read in\" the data file into a Python variable? The first step is to import the most useful data processing libraries, as follows.\n"
   ]
  },
  {
   "cell_type": "code",
   "execution_count": 9,
   "metadata": {},
   "outputs": [],
   "source": [
    "import pandas as pd\n",
    "import numpy as np\n",
    "import matplotlib.pyplot as plt"
   ]
  },
  {
   "cell_type": "markdown",
   "metadata": {},
   "source": [
    "First comes pandas, then numpy, then matplotlib.  These libraries give you access to lots and lots of useful functions---functions that *you* don't have to write, and that perform common tasks.  For example, to read a data file, you can of course use straight python commands.  However, by using a library function to do this, the data is both imported and massaged into a useful form.\n",
    "\n",
    "Next we want to import some data so that we can play around with it.  In this case, Let's pick one and load it into a pandas \"data frame\".  Note that here we are executing python code rather than sending shell commands out to the shell, so we *do not* want to dollar-sign interpolate the `path` variable."
   ]
  },
  {
   "cell_type": "code",
   "execution_count": 10,
   "metadata": {},
   "outputs": [],
   "source": [
    "data = pd.read_csv(path)"
   ]
  },
  {
   "cell_type": "markdown",
   "metadata": {},
   "source": [
    "What just happened?  We have no output.  Did it work?  Let's just type `data` and see what happens."
   ]
  },
  {
   "cell_type": "code",
   "execution_count": 11,
   "metadata": {},
   "outputs": [
    {
     "data": {
      "text/html": [
       "<div>\n",
       "<table border=\"1\" class=\"dataframe\">\n",
       "  <thead>\n",
       "    <tr style=\"text-align: right;\">\n",
       "      <th></th>\n",
       "      <th>Date/Time</th>\n",
       "      <th>Lat</th>\n",
       "      <th>Lon</th>\n",
       "      <th>Base</th>\n",
       "    </tr>\n",
       "  </thead>\n",
       "  <tbody>\n",
       "    <tr>\n",
       "      <th>0</th>\n",
       "      <td>6/1/2014 0:00:00</td>\n",
       "      <td>40.7293</td>\n",
       "      <td>-73.9920</td>\n",
       "      <td>B02512</td>\n",
       "    </tr>\n",
       "    <tr>\n",
       "      <th>1</th>\n",
       "      <td>6/1/2014 0:01:00</td>\n",
       "      <td>40.7131</td>\n",
       "      <td>-74.0097</td>\n",
       "      <td>B02512</td>\n",
       "    </tr>\n",
       "    <tr>\n",
       "      <th>2</th>\n",
       "      <td>6/1/2014 0:04:00</td>\n",
       "      <td>40.3461</td>\n",
       "      <td>-74.6610</td>\n",
       "      <td>B02512</td>\n",
       "    </tr>\n",
       "    <tr>\n",
       "      <th>3</th>\n",
       "      <td>6/1/2014 0:04:00</td>\n",
       "      <td>40.7555</td>\n",
       "      <td>-73.9833</td>\n",
       "      <td>B02512</td>\n",
       "    </tr>\n",
       "    <tr>\n",
       "      <th>4</th>\n",
       "      <td>6/1/2014 0:07:00</td>\n",
       "      <td>40.6880</td>\n",
       "      <td>-74.1831</td>\n",
       "      <td>B02512</td>\n",
       "    </tr>\n",
       "    <tr>\n",
       "      <th>5</th>\n",
       "      <td>6/1/2014 0:08:00</td>\n",
       "      <td>40.7152</td>\n",
       "      <td>-73.9917</td>\n",
       "      <td>B02512</td>\n",
       "    </tr>\n",
       "    <tr>\n",
       "      <th>6</th>\n",
       "      <td>6/1/2014 0:08:00</td>\n",
       "      <td>40.7282</td>\n",
       "      <td>-73.9910</td>\n",
       "      <td>B02512</td>\n",
       "    </tr>\n",
       "    <tr>\n",
       "      <th>7</th>\n",
       "      <td>6/1/2014 0:08:00</td>\n",
       "      <td>40.3042</td>\n",
       "      <td>-73.9794</td>\n",
       "      <td>B02512</td>\n",
       "    </tr>\n",
       "    <tr>\n",
       "      <th>8</th>\n",
       "      <td>6/1/2014 0:09:00</td>\n",
       "      <td>40.7270</td>\n",
       "      <td>-73.9915</td>\n",
       "      <td>B02512</td>\n",
       "    </tr>\n",
       "    <tr>\n",
       "      <th>9</th>\n",
       "      <td>6/1/2014 0:10:00</td>\n",
       "      <td>40.7221</td>\n",
       "      <td>-73.9965</td>\n",
       "      <td>B02512</td>\n",
       "    </tr>\n",
       "    <tr>\n",
       "      <th>10</th>\n",
       "      <td>6/1/2014 0:11:00</td>\n",
       "      <td>40.7153</td>\n",
       "      <td>-74.0146</td>\n",
       "      <td>B02512</td>\n",
       "    </tr>\n",
       "    <tr>\n",
       "      <th>11</th>\n",
       "      <td>6/1/2014 0:15:00</td>\n",
       "      <td>40.6176</td>\n",
       "      <td>-74.0197</td>\n",
       "      <td>B02512</td>\n",
       "    </tr>\n",
       "    <tr>\n",
       "      <th>12</th>\n",
       "      <td>6/1/2014 0:16:00</td>\n",
       "      <td>40.7025</td>\n",
       "      <td>-73.9897</td>\n",
       "      <td>B02512</td>\n",
       "    </tr>\n",
       "    <tr>\n",
       "      <th>13</th>\n",
       "      <td>6/1/2014 0:17:00</td>\n",
       "      <td>40.7350</td>\n",
       "      <td>-74.1650</td>\n",
       "      <td>B02512</td>\n",
       "    </tr>\n",
       "    <tr>\n",
       "      <th>14</th>\n",
       "      <td>6/1/2014 0:17:00</td>\n",
       "      <td>40.7357</td>\n",
       "      <td>-74.0068</td>\n",
       "      <td>B02512</td>\n",
       "    </tr>\n",
       "    <tr>\n",
       "      <th>15</th>\n",
       "      <td>6/1/2014 0:18:00</td>\n",
       "      <td>40.6904</td>\n",
       "      <td>-73.9572</td>\n",
       "      <td>B02512</td>\n",
       "    </tr>\n",
       "    <tr>\n",
       "      <th>16</th>\n",
       "      <td>6/1/2014 0:19:00</td>\n",
       "      <td>40.7384</td>\n",
       "      <td>-73.9857</td>\n",
       "      <td>B02512</td>\n",
       "    </tr>\n",
       "    <tr>\n",
       "      <th>17</th>\n",
       "      <td>6/1/2014 0:20:00</td>\n",
       "      <td>40.7406</td>\n",
       "      <td>-74.0066</td>\n",
       "      <td>B02512</td>\n",
       "    </tr>\n",
       "    <tr>\n",
       "      <th>18</th>\n",
       "      <td>6/1/2014 0:21:00</td>\n",
       "      <td>40.7535</td>\n",
       "      <td>-73.9813</td>\n",
       "      <td>B02512</td>\n",
       "    </tr>\n",
       "    <tr>\n",
       "      <th>19</th>\n",
       "      <td>6/1/2014 0:21:00</td>\n",
       "      <td>40.7220</td>\n",
       "      <td>-73.9804</td>\n",
       "      <td>B02512</td>\n",
       "    </tr>\n",
       "    <tr>\n",
       "      <th>20</th>\n",
       "      <td>6/1/2014 0:23:00</td>\n",
       "      <td>40.8095</td>\n",
       "      <td>-74.1037</td>\n",
       "      <td>B02512</td>\n",
       "    </tr>\n",
       "    <tr>\n",
       "      <th>21</th>\n",
       "      <td>6/1/2014 0:23:00</td>\n",
       "      <td>40.7482</td>\n",
       "      <td>-73.9745</td>\n",
       "      <td>B02512</td>\n",
       "    </tr>\n",
       "    <tr>\n",
       "      <th>22</th>\n",
       "      <td>6/1/2014 0:30:00</td>\n",
       "      <td>40.7043</td>\n",
       "      <td>-73.9330</td>\n",
       "      <td>B02512</td>\n",
       "    </tr>\n",
       "    <tr>\n",
       "      <th>23</th>\n",
       "      <td>6/1/2014 0:32:00</td>\n",
       "      <td>40.7298</td>\n",
       "      <td>-73.9898</td>\n",
       "      <td>B02512</td>\n",
       "    </tr>\n",
       "    <tr>\n",
       "      <th>24</th>\n",
       "      <td>6/1/2014 0:32:00</td>\n",
       "      <td>40.7397</td>\n",
       "      <td>-74.0053</td>\n",
       "      <td>B02512</td>\n",
       "    </tr>\n",
       "    <tr>\n",
       "      <th>25</th>\n",
       "      <td>6/1/2014 0:34:00</td>\n",
       "      <td>40.7607</td>\n",
       "      <td>-74.0025</td>\n",
       "      <td>B02512</td>\n",
       "    </tr>\n",
       "    <tr>\n",
       "      <th>26</th>\n",
       "      <td>6/1/2014 0:37:00</td>\n",
       "      <td>40.7578</td>\n",
       "      <td>-73.9703</td>\n",
       "      <td>B02512</td>\n",
       "    </tr>\n",
       "    <tr>\n",
       "      <th>27</th>\n",
       "      <td>6/1/2014 0:39:00</td>\n",
       "      <td>40.7349</td>\n",
       "      <td>-73.9850</td>\n",
       "      <td>B02512</td>\n",
       "    </tr>\n",
       "    <tr>\n",
       "      <th>28</th>\n",
       "      <td>6/1/2014 0:39:00</td>\n",
       "      <td>40.7133</td>\n",
       "      <td>-73.9775</td>\n",
       "      <td>B02512</td>\n",
       "    </tr>\n",
       "    <tr>\n",
       "      <th>29</th>\n",
       "      <td>6/1/2014 0:40:00</td>\n",
       "      <td>40.7273</td>\n",
       "      <td>-73.9936</td>\n",
       "      <td>B02512</td>\n",
       "    </tr>\n",
       "    <tr>\n",
       "      <th>...</th>\n",
       "      <td>...</td>\n",
       "      <td>...</td>\n",
       "      <td>...</td>\n",
       "      <td>...</td>\n",
       "    </tr>\n",
       "    <tr>\n",
       "      <th>663814</th>\n",
       "      <td>6/30/2014 19:23:00</td>\n",
       "      <td>40.7608</td>\n",
       "      <td>-73.9744</td>\n",
       "      <td>B02764</td>\n",
       "    </tr>\n",
       "    <tr>\n",
       "      <th>663815</th>\n",
       "      <td>6/30/2014 19:30:00</td>\n",
       "      <td>40.7195</td>\n",
       "      <td>-74.0086</td>\n",
       "      <td>B02764</td>\n",
       "    </tr>\n",
       "    <tr>\n",
       "      <th>663816</th>\n",
       "      <td>6/30/2014 19:45:00</td>\n",
       "      <td>40.7548</td>\n",
       "      <td>-74.0003</td>\n",
       "      <td>B02764</td>\n",
       "    </tr>\n",
       "    <tr>\n",
       "      <th>663817</th>\n",
       "      <td>6/30/2014 20:02:00</td>\n",
       "      <td>40.7179</td>\n",
       "      <td>-74.0032</td>\n",
       "      <td>B02764</td>\n",
       "    </tr>\n",
       "    <tr>\n",
       "      <th>663818</th>\n",
       "      <td>6/30/2014 20:05:00</td>\n",
       "      <td>40.7352</td>\n",
       "      <td>-73.9901</td>\n",
       "      <td>B02764</td>\n",
       "    </tr>\n",
       "    <tr>\n",
       "      <th>663819</th>\n",
       "      <td>6/30/2014 20:13:00</td>\n",
       "      <td>40.7540</td>\n",
       "      <td>-73.9762</td>\n",
       "      <td>B02764</td>\n",
       "    </tr>\n",
       "    <tr>\n",
       "      <th>663820</th>\n",
       "      <td>6/30/2014 20:14:00</td>\n",
       "      <td>40.7572</td>\n",
       "      <td>-73.9846</td>\n",
       "      <td>B02764</td>\n",
       "    </tr>\n",
       "    <tr>\n",
       "      <th>663821</th>\n",
       "      <td>6/30/2014 20:30:00</td>\n",
       "      <td>40.7423</td>\n",
       "      <td>-73.9837</td>\n",
       "      <td>B02764</td>\n",
       "    </tr>\n",
       "    <tr>\n",
       "      <th>663822</th>\n",
       "      <td>6/30/2014 20:33:00</td>\n",
       "      <td>40.7599</td>\n",
       "      <td>-73.9650</td>\n",
       "      <td>B02764</td>\n",
       "    </tr>\n",
       "    <tr>\n",
       "      <th>663823</th>\n",
       "      <td>6/30/2014 20:48:00</td>\n",
       "      <td>40.7641</td>\n",
       "      <td>-73.9716</td>\n",
       "      <td>B02764</td>\n",
       "    </tr>\n",
       "    <tr>\n",
       "      <th>663824</th>\n",
       "      <td>6/30/2014 20:54:00</td>\n",
       "      <td>40.7739</td>\n",
       "      <td>-73.7327</td>\n",
       "      <td>B02764</td>\n",
       "    </tr>\n",
       "    <tr>\n",
       "      <th>663825</th>\n",
       "      <td>6/30/2014 21:11:00</td>\n",
       "      <td>40.7711</td>\n",
       "      <td>-73.9497</td>\n",
       "      <td>B02764</td>\n",
       "    </tr>\n",
       "    <tr>\n",
       "      <th>663826</th>\n",
       "      <td>6/30/2014 21:14:00</td>\n",
       "      <td>40.7386</td>\n",
       "      <td>-73.9935</td>\n",
       "      <td>B02764</td>\n",
       "    </tr>\n",
       "    <tr>\n",
       "      <th>663827</th>\n",
       "      <td>6/30/2014 21:19:00</td>\n",
       "      <td>40.7285</td>\n",
       "      <td>-74.0048</td>\n",
       "      <td>B02764</td>\n",
       "    </tr>\n",
       "    <tr>\n",
       "      <th>663828</th>\n",
       "      <td>6/30/2014 21:20:00</td>\n",
       "      <td>40.7338</td>\n",
       "      <td>-74.0073</td>\n",
       "      <td>B02764</td>\n",
       "    </tr>\n",
       "    <tr>\n",
       "      <th>663829</th>\n",
       "      <td>6/30/2014 21:20:00</td>\n",
       "      <td>40.7364</td>\n",
       "      <td>-73.9908</td>\n",
       "      <td>B02764</td>\n",
       "    </tr>\n",
       "    <tr>\n",
       "      <th>663830</th>\n",
       "      <td>6/30/2014 21:25:00</td>\n",
       "      <td>40.7627</td>\n",
       "      <td>-73.9873</td>\n",
       "      <td>B02764</td>\n",
       "    </tr>\n",
       "    <tr>\n",
       "      <th>663831</th>\n",
       "      <td>6/30/2014 21:31:00</td>\n",
       "      <td>40.7425</td>\n",
       "      <td>-73.9891</td>\n",
       "      <td>B02764</td>\n",
       "    </tr>\n",
       "    <tr>\n",
       "      <th>663832</th>\n",
       "      <td>6/30/2014 21:36:00</td>\n",
       "      <td>40.6749</td>\n",
       "      <td>-73.9566</td>\n",
       "      <td>B02764</td>\n",
       "    </tr>\n",
       "    <tr>\n",
       "      <th>663833</th>\n",
       "      <td>6/30/2014 21:51:00</td>\n",
       "      <td>40.7548</td>\n",
       "      <td>-73.9686</td>\n",
       "      <td>B02764</td>\n",
       "    </tr>\n",
       "    <tr>\n",
       "      <th>663834</th>\n",
       "      <td>6/30/2014 22:08:00</td>\n",
       "      <td>40.7467</td>\n",
       "      <td>-73.9801</td>\n",
       "      <td>B02764</td>\n",
       "    </tr>\n",
       "    <tr>\n",
       "      <th>663835</th>\n",
       "      <td>6/30/2014 22:14:00</td>\n",
       "      <td>40.7141</td>\n",
       "      <td>-73.9974</td>\n",
       "      <td>B02764</td>\n",
       "    </tr>\n",
       "    <tr>\n",
       "      <th>663836</th>\n",
       "      <td>6/30/2014 22:25:00</td>\n",
       "      <td>40.7744</td>\n",
       "      <td>-73.9514</td>\n",
       "      <td>B02764</td>\n",
       "    </tr>\n",
       "    <tr>\n",
       "      <th>663837</th>\n",
       "      <td>6/30/2014 22:28:00</td>\n",
       "      <td>40.7363</td>\n",
       "      <td>-73.9814</td>\n",
       "      <td>B02764</td>\n",
       "    </tr>\n",
       "    <tr>\n",
       "      <th>663838</th>\n",
       "      <td>6/30/2014 22:33:00</td>\n",
       "      <td>40.7740</td>\n",
       "      <td>-73.8727</td>\n",
       "      <td>B02764</td>\n",
       "    </tr>\n",
       "    <tr>\n",
       "      <th>663839</th>\n",
       "      <td>6/30/2014 22:40:00</td>\n",
       "      <td>40.7332</td>\n",
       "      <td>-73.9872</td>\n",
       "      <td>B02764</td>\n",
       "    </tr>\n",
       "    <tr>\n",
       "      <th>663840</th>\n",
       "      <td>6/30/2014 23:12:00</td>\n",
       "      <td>40.7905</td>\n",
       "      <td>-73.9796</td>\n",
       "      <td>B02764</td>\n",
       "    </tr>\n",
       "    <tr>\n",
       "      <th>663841</th>\n",
       "      <td>6/30/2014 23:13:00</td>\n",
       "      <td>40.7640</td>\n",
       "      <td>-73.9887</td>\n",
       "      <td>B02764</td>\n",
       "    </tr>\n",
       "    <tr>\n",
       "      <th>663842</th>\n",
       "      <td>6/30/2014 23:15:00</td>\n",
       "      <td>40.7262</td>\n",
       "      <td>-73.9944</td>\n",
       "      <td>B02764</td>\n",
       "    </tr>\n",
       "    <tr>\n",
       "      <th>663843</th>\n",
       "      <td>6/30/2014 23:35:00</td>\n",
       "      <td>40.7404</td>\n",
       "      <td>-73.9848</td>\n",
       "      <td>B02764</td>\n",
       "    </tr>\n",
       "  </tbody>\n",
       "</table>\n",
       "<p>663844 rows × 4 columns</p>\n",
       "</div>"
      ],
      "text/plain": [
       "                 Date/Time      Lat      Lon    Base\n",
       "0         6/1/2014 0:00:00  40.7293 -73.9920  B02512\n",
       "1         6/1/2014 0:01:00  40.7131 -74.0097  B02512\n",
       "2         6/1/2014 0:04:00  40.3461 -74.6610  B02512\n",
       "3         6/1/2014 0:04:00  40.7555 -73.9833  B02512\n",
       "4         6/1/2014 0:07:00  40.6880 -74.1831  B02512\n",
       "5         6/1/2014 0:08:00  40.7152 -73.9917  B02512\n",
       "6         6/1/2014 0:08:00  40.7282 -73.9910  B02512\n",
       "7         6/1/2014 0:08:00  40.3042 -73.9794  B02512\n",
       "8         6/1/2014 0:09:00  40.7270 -73.9915  B02512\n",
       "9         6/1/2014 0:10:00  40.7221 -73.9965  B02512\n",
       "10        6/1/2014 0:11:00  40.7153 -74.0146  B02512\n",
       "11        6/1/2014 0:15:00  40.6176 -74.0197  B02512\n",
       "12        6/1/2014 0:16:00  40.7025 -73.9897  B02512\n",
       "13        6/1/2014 0:17:00  40.7350 -74.1650  B02512\n",
       "14        6/1/2014 0:17:00  40.7357 -74.0068  B02512\n",
       "15        6/1/2014 0:18:00  40.6904 -73.9572  B02512\n",
       "16        6/1/2014 0:19:00  40.7384 -73.9857  B02512\n",
       "17        6/1/2014 0:20:00  40.7406 -74.0066  B02512\n",
       "18        6/1/2014 0:21:00  40.7535 -73.9813  B02512\n",
       "19        6/1/2014 0:21:00  40.7220 -73.9804  B02512\n",
       "20        6/1/2014 0:23:00  40.8095 -74.1037  B02512\n",
       "21        6/1/2014 0:23:00  40.7482 -73.9745  B02512\n",
       "22        6/1/2014 0:30:00  40.7043 -73.9330  B02512\n",
       "23        6/1/2014 0:32:00  40.7298 -73.9898  B02512\n",
       "24        6/1/2014 0:32:00  40.7397 -74.0053  B02512\n",
       "25        6/1/2014 0:34:00  40.7607 -74.0025  B02512\n",
       "26        6/1/2014 0:37:00  40.7578 -73.9703  B02512\n",
       "27        6/1/2014 0:39:00  40.7349 -73.9850  B02512\n",
       "28        6/1/2014 0:39:00  40.7133 -73.9775  B02512\n",
       "29        6/1/2014 0:40:00  40.7273 -73.9936  B02512\n",
       "...                    ...      ...      ...     ...\n",
       "663814  6/30/2014 19:23:00  40.7608 -73.9744  B02764\n",
       "663815  6/30/2014 19:30:00  40.7195 -74.0086  B02764\n",
       "663816  6/30/2014 19:45:00  40.7548 -74.0003  B02764\n",
       "663817  6/30/2014 20:02:00  40.7179 -74.0032  B02764\n",
       "663818  6/30/2014 20:05:00  40.7352 -73.9901  B02764\n",
       "663819  6/30/2014 20:13:00  40.7540 -73.9762  B02764\n",
       "663820  6/30/2014 20:14:00  40.7572 -73.9846  B02764\n",
       "663821  6/30/2014 20:30:00  40.7423 -73.9837  B02764\n",
       "663822  6/30/2014 20:33:00  40.7599 -73.9650  B02764\n",
       "663823  6/30/2014 20:48:00  40.7641 -73.9716  B02764\n",
       "663824  6/30/2014 20:54:00  40.7739 -73.7327  B02764\n",
       "663825  6/30/2014 21:11:00  40.7711 -73.9497  B02764\n",
       "663826  6/30/2014 21:14:00  40.7386 -73.9935  B02764\n",
       "663827  6/30/2014 21:19:00  40.7285 -74.0048  B02764\n",
       "663828  6/30/2014 21:20:00  40.7338 -74.0073  B02764\n",
       "663829  6/30/2014 21:20:00  40.7364 -73.9908  B02764\n",
       "663830  6/30/2014 21:25:00  40.7627 -73.9873  B02764\n",
       "663831  6/30/2014 21:31:00  40.7425 -73.9891  B02764\n",
       "663832  6/30/2014 21:36:00  40.6749 -73.9566  B02764\n",
       "663833  6/30/2014 21:51:00  40.7548 -73.9686  B02764\n",
       "663834  6/30/2014 22:08:00  40.7467 -73.9801  B02764\n",
       "663835  6/30/2014 22:14:00  40.7141 -73.9974  B02764\n",
       "663836  6/30/2014 22:25:00  40.7744 -73.9514  B02764\n",
       "663837  6/30/2014 22:28:00  40.7363 -73.9814  B02764\n",
       "663838  6/30/2014 22:33:00  40.7740 -73.8727  B02764\n",
       "663839  6/30/2014 22:40:00  40.7332 -73.9872  B02764\n",
       "663840  6/30/2014 23:12:00  40.7905 -73.9796  B02764\n",
       "663841  6/30/2014 23:13:00  40.7640 -73.9887  B02764\n",
       "663842  6/30/2014 23:15:00  40.7262 -73.9944  B02764\n",
       "663843  6/30/2014 23:35:00  40.7404 -73.9848  B02764\n",
       "\n",
       "[663844 rows x 4 columns]"
      ]
     },
     "execution_count": 11,
     "metadata": {},
     "output_type": "execute_result"
    }
   ],
   "source": [
    "data"
   ]
  },
  {
   "cell_type": "markdown",
   "metadata": {},
   "source": [
    "Okay, cool.  Instead of seeing megabytes of data, the notebook interface is smart enough to show us only the beginning and ending of the data.  We have about 664,000 rows (rounding, of course) and the data run from midnight on the first of June, to midnight on the 30th of June, more or less.\n",
    "\n",
    "So they say a picture is worth a thousand words (or in this case, over half a million words), so let's try to plot this data.  \n",
    "\n",
    "The first thing we want to do is figure out whether the data import step (the `pd.read_csv` command) properly \"decoded\" the date-time strings into actual dates.  To check this you have to understand a few things.\n",
    "\n",
    "First, the `pd.read_csv` command loaded the data into a pandas Data Frame.  You can read more about data frames [here](http://pandas.pydata.org/pandas-docs/stable/dsintro.html#dataframe).\n",
    "\n",
    "Second, data frames have lots of useful properties, including some built in types.  Pandas recognizes integers and decimals, and other things as well.  In order to see what data types pandas has deduced from the input data, type the command `data.dtypes`."
   ]
  },
  {
   "cell_type": "code",
   "execution_count": 12,
   "metadata": {},
   "outputs": [
    {
     "data": {
      "text/plain": [
       "Date/Time     object\n",
       "Lat          float64\n",
       "Lon          float64\n",
       "Base          object\n",
       "dtype: object"
      ]
     },
     "execution_count": 12,
     "metadata": {},
     "output_type": "execute_result"
    }
   ],
   "source": [
    "data.dtypes"
   ]
  },
  {
   "cell_type": "markdown",
   "metadata": {},
   "source": [
    "As you can see, the first column, called \"Date/Time\" has been saved as an \"object\".  What we want is to convince Pandas to see that it should be considered some sort of date time thingee.  According to the page on date time functions (see [here](http://pandas.pydata.org/pandas-docs/stable/timeseries.html#converting-to-timestamps)), there is a function called `to_datetime` that takes a series as an input and outputs a list of datetime objects.  Let's try that with just the first few elements in the series by using the `head` function.\n",
    "\n",
    "First, how does `head` work?  Just use the `head` function, as follows:"
   ]
  },
  {
   "cell_type": "code",
   "execution_count": 13,
   "metadata": {},
   "outputs": [
    {
     "data": {
      "text/html": [
       "<div>\n",
       "<table border=\"1\" class=\"dataframe\">\n",
       "  <thead>\n",
       "    <tr style=\"text-align: right;\">\n",
       "      <th></th>\n",
       "      <th>Date/Time</th>\n",
       "      <th>Lat</th>\n",
       "      <th>Lon</th>\n",
       "      <th>Base</th>\n",
       "    </tr>\n",
       "  </thead>\n",
       "  <tbody>\n",
       "    <tr>\n",
       "      <th>0</th>\n",
       "      <td>6/1/2014 0:00:00</td>\n",
       "      <td>40.7293</td>\n",
       "      <td>-73.9920</td>\n",
       "      <td>B02512</td>\n",
       "    </tr>\n",
       "    <tr>\n",
       "      <th>1</th>\n",
       "      <td>6/1/2014 0:01:00</td>\n",
       "      <td>40.7131</td>\n",
       "      <td>-74.0097</td>\n",
       "      <td>B02512</td>\n",
       "    </tr>\n",
       "    <tr>\n",
       "      <th>2</th>\n",
       "      <td>6/1/2014 0:04:00</td>\n",
       "      <td>40.3461</td>\n",
       "      <td>-74.6610</td>\n",
       "      <td>B02512</td>\n",
       "    </tr>\n",
       "    <tr>\n",
       "      <th>3</th>\n",
       "      <td>6/1/2014 0:04:00</td>\n",
       "      <td>40.7555</td>\n",
       "      <td>-73.9833</td>\n",
       "      <td>B02512</td>\n",
       "    </tr>\n",
       "    <tr>\n",
       "      <th>4</th>\n",
       "      <td>6/1/2014 0:07:00</td>\n",
       "      <td>40.6880</td>\n",
       "      <td>-74.1831</td>\n",
       "      <td>B02512</td>\n",
       "    </tr>\n",
       "  </tbody>\n",
       "</table>\n",
       "</div>"
      ],
      "text/plain": [
       "          Date/Time      Lat      Lon    Base\n",
       "0  6/1/2014 0:00:00  40.7293 -73.9920  B02512\n",
       "1  6/1/2014 0:01:00  40.7131 -74.0097  B02512\n",
       "2  6/1/2014 0:04:00  40.3461 -74.6610  B02512\n",
       "3  6/1/2014 0:04:00  40.7555 -73.9833  B02512\n",
       "4  6/1/2014 0:07:00  40.6880 -74.1831  B02512"
      ]
     },
     "execution_count": 13,
     "metadata": {},
     "output_type": "execute_result"
    }
   ],
   "source": [
    "data.head()"
   ]
  },
  {
   "cell_type": "markdown",
   "metadata": {},
   "source": [
    "Second, how do we see *just* the Date/Time column of data?  We can use the name of the column (in this case, \"Date/Time\") as follows:"
   ]
  },
  {
   "cell_type": "code",
   "execution_count": 14,
   "metadata": {},
   "outputs": [
    {
     "data": {
      "text/plain": [
       "0    6/1/2014 0:00:00\n",
       "1    6/1/2014 0:01:00\n",
       "2    6/1/2014 0:04:00\n",
       "3    6/1/2014 0:04:00\n",
       "4    6/1/2014 0:07:00\n",
       "Name: Date/Time, dtype: object"
      ]
     },
     "execution_count": 14,
     "metadata": {},
     "output_type": "execute_result"
    }
   ],
   "source": [
    "data['Date/Time'].head()\n"
   ]
  },
  {
   "cell_type": "markdown",
   "metadata": {},
   "source": [
    "Finally, apply the `to_datetime` function to just the first 5 lines of the `Date/Time` column to see what we get."
   ]
  },
  {
   "cell_type": "code",
   "execution_count": 15,
   "metadata": {},
   "outputs": [
    {
     "data": {
      "text/plain": [
       "0   2014-06-01 00:00:00\n",
       "1   2014-06-01 00:01:00\n",
       "2   2014-06-01 00:04:00\n",
       "3   2014-06-01 00:04:00\n",
       "4   2014-06-01 00:07:00\n",
       "Name: Date/Time, dtype: datetime64[ns]"
      ]
     },
     "execution_count": 15,
     "metadata": {},
     "output_type": "execute_result"
    }
   ],
   "source": [
    "pd.to_datetime(data['Date/Time'].head())"
   ]
  },
  {
   "cell_type": "markdown",
   "metadata": {},
   "source": [
    "Okay, that worked just fine.  It is sometimes the case that the input times that look like times to a human are confusing to a computer.  For example, the above data is in \"year-month-day\" format.  Americans often put time in \"month day year\" format, while the European standard is to use a \"day month year\" format.  It's all terribly confusing to a poor program, so you can specify what you *mean* by using a `format` parameter that describes exactly what is where.  Details are given on [the `to_datetime` documentation page](http://pandas.pydata.org/pandas-docs/stable/timeseries.html#converting-to-timestamps).\n",
    "\n",
    "But actually, the read_csv function has lots of options, and one of them is to read in the data as a timestamp in the first place.  So we'll change our `data = pd.read_csv(path)` line from above to use these options.  This takes a bit more time that the earlier `read_csv` command, because now it has to actually process and interpret each of those 600,000 timestamps and turn them into a `datetime64` structure."
   ]
  },
  {
   "cell_type": "code",
   "execution_count": 23,
   "metadata": {},
   "outputs": [
    {
     "data": {
      "text/html": [
       "<div>\n",
       "<table border=\"1\" class=\"dataframe\">\n",
       "  <thead>\n",
       "    <tr style=\"text-align: right;\">\n",
       "      <th></th>\n",
       "      <th>Lat</th>\n",
       "      <th>Lon</th>\n",
       "      <th>Base</th>\n",
       "    </tr>\n",
       "    <tr>\n",
       "      <th>Date/Time</th>\n",
       "      <th></th>\n",
       "      <th></th>\n",
       "      <th></th>\n",
       "    </tr>\n",
       "  </thead>\n",
       "  <tbody>\n",
       "    <tr>\n",
       "      <th>2014-06-01 00:00:00</th>\n",
       "      <td>40.7293</td>\n",
       "      <td>-73.9920</td>\n",
       "      <td>B02512</td>\n",
       "    </tr>\n",
       "    <tr>\n",
       "      <th>2014-06-01 00:01:00</th>\n",
       "      <td>40.7131</td>\n",
       "      <td>-74.0097</td>\n",
       "      <td>B02512</td>\n",
       "    </tr>\n",
       "    <tr>\n",
       "      <th>2014-06-01 00:04:00</th>\n",
       "      <td>40.3461</td>\n",
       "      <td>-74.6610</td>\n",
       "      <td>B02512</td>\n",
       "    </tr>\n",
       "    <tr>\n",
       "      <th>2014-06-01 00:04:00</th>\n",
       "      <td>40.7555</td>\n",
       "      <td>-73.9833</td>\n",
       "      <td>B02512</td>\n",
       "    </tr>\n",
       "    <tr>\n",
       "      <th>2014-06-01 00:07:00</th>\n",
       "      <td>40.6880</td>\n",
       "      <td>-74.1831</td>\n",
       "      <td>B02512</td>\n",
       "    </tr>\n",
       "  </tbody>\n",
       "</table>\n",
       "</div>"
      ],
      "text/plain": [
       "                         Lat      Lon    Base\n",
       "Date/Time                                    \n",
       "2014-06-01 00:00:00  40.7293 -73.9920  B02512\n",
       "2014-06-01 00:01:00  40.7131 -74.0097  B02512\n",
       "2014-06-01 00:04:00  40.3461 -74.6610  B02512\n",
       "2014-06-01 00:04:00  40.7555 -73.9833  B02512\n",
       "2014-06-01 00:07:00  40.6880 -74.1831  B02512"
      ]
     },
     "execution_count": 23,
     "metadata": {},
     "output_type": "execute_result"
    }
   ],
   "source": [
    "data = pd.read_csv(path, parse_dates=['Date/Time'],index_col='Date/Time')\n",
    "data.head()"
   ]
  },
  {
   "cell_type": "markdown",
   "metadata": {},
   "source": [
    "Notice how now the 'Date/Time' column is in bold and seems more important than the other data items? That's because the other thing we added was to tell the CSV parser to use the 'Date/Time' column as an index.  Indexes are super useful, but explaining why is harder than just showing what they can do.  So let's just show how it can be used.\n",
    "\n"
   ]
  },
  {
   "cell_type": "code",
   "execution_count": 47,
   "metadata": {},
   "outputs": [
    {
     "data": {
      "text/plain": [
       "hour\n",
       "0     14514\n",
       "1      9167\n",
       "2      6189\n",
       "3      6937\n",
       "4      7701\n",
       "5     11955\n",
       "6     22030\n",
       "7     30834\n",
       "8     29771\n",
       "9     24298\n",
       "10    23584\n",
       "11    24155\n",
       "12    25233\n",
       "13    28937\n",
       "14    34428\n",
       "15    41586\n",
       "16    48162\n",
       "17    50452\n",
       "18    45013\n",
       "19    38203\n",
       "20    40108\n",
       "21    40791\n",
       "22    35614\n",
       "23    24182\n",
       "Name: trips, dtype: int64"
      ]
     },
     "execution_count": 47,
     "metadata": {},
     "output_type": "execute_result"
    }
   ],
   "source": [
    "data['hour'] = data.index.hour\n",
    "data['trips'] = 1 \n",
    "counts = data.groupby('hour').aggregate(sum)['trips']\n",
    "counts"
   ]
  },
  {
   "cell_type": "code",
   "execution_count": 48,
   "metadata": {},
   "outputs": [
    {
     "data": {
      "text/plain": [
       "<matplotlib.axes._subplots.AxesSubplot at 0x7f30dbbf3198>"
      ]
     },
     "execution_count": 48,
     "metadata": {},
     "output_type": "execute_result"
    },
    {
     "data": {
      "image/png": "[encoded data removed]",
      "text/plain": [
       "<matplotlib.figure.Figure at 0x7f30d867c2b0>"
      ]
     },
     "metadata": {},
     "output_type": "display_data"
    }
   ],
   "source": [
    "counts.plot()"
   ]
  },
  {
   "cell_type": "markdown",
   "metadata": {},
   "source": [
    "Look up the documentation for the `group by` function <http://pandas.pydata.org/pandas-docs/stable/groupby.html> and see if you can figure out how to get the average number of trips per hour, by changing sum in the following line:"
   ]
  },
  {
   "cell_type": "code",
   "execution_count": null,
   "metadata": {},
   "outputs": [],
   "source": [
    "average_counts = data.groupby('hour').aggregate(sum)['trips']\n",
    "plot(average_counts)"
   ]
  }
 ],
 "metadata": {
  "kernelspec": {
   "display_name": "Python 3",
   "language": "python",
   "name": "python3"
  },
  "language_info": {
   "codemirror_mode": {
    "name": "ipython",
    "version": 3
   },
   "file_extension": ".py",
   "mimetype": "text/x-python",
   "name": "python",
   "nbconvert_exporter": "python",
   "pygments_lexer": "ipython3",
   "version": "3.6.3"
  }
 },
 "nbformat": 4,
 "nbformat_minor": 2
}
